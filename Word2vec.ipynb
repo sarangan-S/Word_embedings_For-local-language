{
 "cells": [
  {
   "cell_type": "code",
   "execution_count": 1,
   "metadata": {},
   "outputs": [],
   "source": [
    "import os \n",
    "import pandas as pd\n",
    "import glob"
   ]
  },
  {
   "cell_type": "code",
   "execution_count": 2,
   "metadata": {},
   "outputs": [],
   "source": [
    "os.chdir('/Users/sivapalansarangan/Word2vec final/Data')"
   ]
  },
  {
   "cell_type": "code",
   "execution_count": 3,
   "metadata": {},
   "outputs": [
    {
     "data": {
      "text/plain": [
       "'/Users/sivapalansarangan/Word2vec final/Data'"
      ]
     },
     "execution_count": 3,
     "metadata": {},
     "output_type": "execute_result"
    }
   ],
   "source": [
    "%pwd"
   ]
  },
  {
   "cell_type": "code",
   "execution_count": 4,
   "metadata": {},
   "outputs": [],
   "source": [
    "file_extension='.csv'\n",
    "all_filenames = [i for i in glob.glob(f\"*{file_extension}\")]"
   ]
  },
  {
   "cell_type": "code",
   "execution_count": 5,
   "metadata": {},
   "outputs": [
    {
     "data": {
      "text/plain": [
       "'மாமலர் - 24.csv'"
      ]
     },
     "execution_count": 5,
     "metadata": {},
     "output_type": "execute_result"
    }
   ],
   "source": [
    "all_filenames[-1]"
   ]
  },
  {
   "cell_type": "code",
   "execution_count": 6,
   "metadata": {},
   "outputs": [
    {
     "data": {
      "text/plain": [
       "1941"
      ]
     },
     "execution_count": 6,
     "metadata": {},
     "output_type": "execute_result"
    }
   ],
   "source": [
    "len(all_filenames)"
   ]
  },
  {
   "cell_type": "code",
   "execution_count": 7,
   "metadata": {},
   "outputs": [],
   "source": [
    "df = pd.concat([pd.read_csv(f) for f in all_filenames])"
   ]
  },
  {
   "cell_type": "code",
   "execution_count": 8,
   "metadata": {},
   "outputs": [],
   "source": [
    "os.chdir('/Users/sivapalansarangan/Word2vec final')"
   ]
  },
  {
   "cell_type": "code",
   "execution_count": 9,
   "metadata": {},
   "outputs": [
    {
     "data": {
      "text/html": [
       "<div>\n",
       "<style scoped>\n",
       "    .dataframe tbody tr th:only-of-type {\n",
       "        vertical-align: middle;\n",
       "    }\n",
       "\n",
       "    .dataframe tbody tr th {\n",
       "        vertical-align: top;\n",
       "    }\n",
       "\n",
       "    .dataframe thead th {\n",
       "        text-align: right;\n",
       "    }\n",
       "</style>\n",
       "<table border=\"1\" class=\"dataframe\">\n",
       "  <thead>\n",
       "    <tr style=\"text-align: right;\">\n",
       "      <th></th>\n",
       "      <th>Heading</th>\n",
       "      <th>Chapter</th>\n",
       "      <th>Paragraph</th>\n",
       "    </tr>\n",
       "  </thead>\n",
       "  <tbody>\n",
       "    <tr>\n",
       "      <th>0</th>\n",
       "      <td>சொல்வளர்காடு - 1</td>\n",
       "      <td>முதற்காடு : கௌஷீதகம்</td>\n",
       "      <td>தொன்மையான மலைநிலமாகிய கௌஷீதகத்தில் அசிதர் என்ன...</td>\n",
       "    </tr>\n",
       "    <tr>\n",
       "      <th>1</th>\n",
       "      <td>NaN</td>\n",
       "      <td>NaN</td>\n",
       "      <td>பாஞ்சாலநாட்டைச் சேர்ந்தவனும் கௌதம கோத்திரத்தவன...</td>\n",
       "    </tr>\n",
       "    <tr>\n",
       "      <th>2</th>\n",
       "      <td>NaN</td>\n",
       "      <td>NaN</td>\n",
       "      <td>மாதத்தில் ஒருநாள் தன் மாணவர்களின் தொழில்தேர்ச்...</td>\n",
       "    </tr>\n",
       "    <tr>\n",
       "      <th>3</th>\n",
       "      <td>NaN</td>\n",
       "      <td>NaN</td>\n",
       "      <td>அன்று அனல்முகப்பில் அவியிடல் முடிந்தபின் மிச்ச...</td>\n",
       "    </tr>\n",
       "    <tr>\n",
       "      <th>4</th>\n",
       "      <td>NaN</td>\n",
       "      <td>NaN</td>\n",
       "      <td>விழிதிருப்பி அவனை நோக்கிய ஆசிரியர் “சொல், அது ...</td>\n",
       "    </tr>\n",
       "  </tbody>\n",
       "</table>\n",
       "</div>"
      ],
      "text/plain": [
       "            Heading               Chapter  \\\n",
       "0  சொல்வளர்காடு - 1  முதற்காடு : கௌஷீதகம்   \n",
       "1               NaN                   NaN   \n",
       "2               NaN                   NaN   \n",
       "3               NaN                   NaN   \n",
       "4               NaN                   NaN   \n",
       "\n",
       "                                           Paragraph  \n",
       "0  தொன்மையான மலைநிலமாகிய கௌஷீதகத்தில் அசிதர் என்ன...  \n",
       "1  பாஞ்சாலநாட்டைச் சேர்ந்தவனும் கௌதம கோத்திரத்தவன...  \n",
       "2  மாதத்தில் ஒருநாள் தன் மாணவர்களின் தொழில்தேர்ச்...  \n",
       "3  அன்று அனல்முகப்பில் அவியிடல் முடிந்தபின் மிச்ச...  \n",
       "4  விழிதிருப்பி அவனை நோக்கிய ஆசிரியர் “சொல், அது ...  "
      ]
     },
     "execution_count": 9,
     "metadata": {},
     "output_type": "execute_result"
    }
   ],
   "source": [
    "df.head()"
   ]
  },
  {
   "cell_type": "code",
   "execution_count": 15,
   "metadata": {},
   "outputs": [],
   "source": [
    "review_text=df[\"Paragraph\"].values"
   ]
  },
  {
   "cell_type": "code",
   "execution_count": 16,
   "metadata": {},
   "outputs": [],
   "source": [
    "import tensorflow as tf\n",
    "import re\n",
    "import string"
   ]
  },
  {
   "cell_type": "code",
   "execution_count": 68,
   "metadata": {},
   "outputs": [],
   "source": [
    "# Now, create a custom standardization function to lowercase the text and\n",
    "# remove punctuation.\n",
    "def custom_standardization(input_data):\n",
    "  #lowercase = tf.strings.lower(input_data)\n",
    "  return tf.strings.regex_replace(input_data,\n",
    "                                  '[%s]' % re.escape(string.punctuation+u'\\u201c'+u'\\u201d'+u'\\u2018'+u'\\u2019'), '')"
   ]
  },
  {
   "cell_type": "code",
   "execution_count": 11,
   "metadata": {},
   "outputs": [],
   "source": [
    "def clean_text(text ): \n",
    "    delete_dict = {sp_character: ' ' for sp_character in string.punctuation} \n",
    "    delete_dict[' '] = ' ' \n",
    "    table = str.maketrans(delete_dict)\n",
    "    text1 = text.translate(table)\n",
    "    #print('cleaned:'+text1)\n",
    "    textArr= text1.split()\n",
    "    text2 = ' '.join([w for w in textArr if ( not w.isdigit() and  ( not w.isdigit() and len(w)>2))]) \n",
    "    \n",
    "    return text2.split(' ')"
   ]
  },
  {
   "cell_type": "code",
   "execution_count": null,
   "metadata": {},
   "outputs": [],
   "source": []
  },
  {
   "cell_type": "code",
   "execution_count": 17,
   "metadata": {},
   "outputs": [],
   "source": [
    "newvec=[clean_text(a) for a in review_text]"
   ]
  },
  {
   "cell_type": "code",
   "execution_count": 103,
   "metadata": {},
   "outputs": [],
   "source": [
    "#import nltk\n",
    "#newvec=[nltk.word_tokenize(t) for t in review_text]"
   ]
  },
  {
   "cell_type": "code",
   "execution_count": 171,
   "metadata": {},
   "outputs": [],
   "source": [
    "from gensim.models import Word2Vec\n",
    "from gensim.models.callbacks import CallbackAny2Vec\n",
    "# init callback class\n",
    "class callback(CallbackAny2Vec):\n",
    "    \"\"\"\n",
    "    Callback to print loss after each epoch\n",
    "    \"\"\"\n",
    "    def __init__(self):\n",
    "        self.epoch = 0\n",
    "\n",
    "    def on_epoch_end(self, model):\n",
    "        loss = model.get_latest_training_loss()\n",
    "        \n",
    "        if self.epoch == 0:\n",
    "            print('Loss after epoch {}: {}'.format(self.epoch, loss))\n",
    "        elif self.epoch % 100 == 0:\n",
    "            print('Loss after epoch {}: {}'.format(self.epoch, loss- self.loss_previous_step))\n",
    "        \n",
    "        \n",
    "        self.epoch += 1\n",
    "        self.loss_previous_step = loss"
   ]
  },
  {
   "cell_type": "code",
   "execution_count": 175,
   "metadata": {},
   "outputs": [],
   "source": [
    "w2v_model = Word2Vec(vector_size = 300,\n",
    "                     window = 10,\n",
    "                     min_count = 2,\n",
    "                     workers = 20,\n",
    "                     sg = 1,\n",
    "                     negative = 5,\n",
    "                     sample = 1e-5)"
   ]
  },
  {
   "cell_type": "code",
   "execution_count": 176,
   "metadata": {},
   "outputs": [
    {
     "name": "stdout",
     "output_type": "stream",
     "text": [
      "Loss after epoch 0: 2520309.75\n"
     ]
    }
   ],
   "source": [
    "import time\n",
    "start = time.time()\n",
    "w2v_model.build_vocab(newvec)\n",
    "w2v_model.train(newvec, \n",
    "                total_examples=w2v_model.corpus_count, \n",
    "                epochs=10, \n",
    "                report_delay=1,\n",
    "                compute_loss = True, # set compute_loss = True\n",
    "                callbacks=[callback()]) # add the callback class\n",
    "end = time.time()"
   ]
  },
  {
   "cell_type": "code",
   "execution_count": 19,
   "metadata": {},
   "outputs": [],
   "source": [
    "from gensim.models import Word2Vec"
   ]
  },
  {
   "cell_type": "code",
   "execution_count": 20,
   "metadata": {},
   "outputs": [],
   "source": [
    "model=Word2Vec(newvec, min_count=2, vector_size=300,sg=1)# sg is o or 1 ie skkipgram or CRow"
   ]
  },
  {
   "cell_type": "code",
   "execution_count": 21,
   "metadata": {},
   "outputs": [
    {
     "data": {
      "text/plain": [
       "array([-0.08551987,  0.08582722,  0.08568816,  0.22683135,  0.03161886,\n",
       "       -0.21863335,  0.08204032,  0.18090552,  0.03157439,  0.03097371,\n",
       "       -0.05046118, -0.06321671,  0.12466056, -0.04982619, -0.01760332,\n",
       "       -0.00770158,  0.03939118, -0.00860988, -0.02557126, -0.00768459,\n",
       "       -0.0813006 ,  0.07383581,  0.07249667,  0.0787826 , -0.00838348,\n",
       "        0.08959188, -0.11618777, -0.05991484, -0.10595969, -0.20409192,\n",
       "       -0.04750619,  0.04899934,  0.09696218,  0.03751181, -0.03003656,\n",
       "        0.1384886 , -0.00284336, -0.09611601,  0.02079516,  0.05603093,\n",
       "       -0.08138581,  0.02675778, -0.17210616, -0.00955326, -0.05270321,\n",
       "        0.25491297,  0.06388483, -0.0164634 ,  0.08796892,  0.20855558,\n",
       "        0.12255811, -0.07184163, -0.09571307,  0.11827999, -0.14429389,\n",
       "        0.09706001, -0.0387624 ,  0.08734038,  0.03265302,  0.10251933,\n",
       "       -0.03139735, -0.11591085,  0.03599682,  0.13472131,  0.17869356,\n",
       "        0.0863286 ,  0.00956518,  0.19986445, -0.05610168,  0.1371412 ,\n",
       "       -0.03588689,  0.16729733,  0.07721014, -0.23488413, -0.01358665,\n",
       "        0.0793122 , -0.10579854, -0.05733269, -0.07685678,  0.17932843,\n",
       "       -0.10282349, -0.11997736, -0.05474482,  0.29529   , -0.0899689 ,\n",
       "        0.03088192, -0.18771341,  0.15016873,  0.21284144,  0.0876091 ,\n",
       "        0.05098222, -0.12941404,  0.04861192, -0.08514498,  0.1378938 ,\n",
       "        0.08865702,  0.06579015,  0.0593063 , -0.16578361,  0.15819442,\n",
       "       -0.06486927,  0.02392282, -0.01378752,  0.02042253,  0.08141009,\n",
       "       -0.18235669, -0.073239  ,  0.06700395, -0.18938625,  0.07558256,\n",
       "       -0.16080125, -0.10107698, -0.12761186,  0.14978215,  0.01953979,\n",
       "        0.03027929,  0.00885519, -0.04432033,  0.03769784, -0.16585334,\n",
       "        0.07984134, -0.02093715,  0.14117737, -0.19346716, -0.12618296,\n",
       "        0.11402904,  0.06678788,  0.027165  , -0.1402272 ,  0.12997718,\n",
       "        0.03999697,  0.00898722,  0.09350912, -0.34266055,  0.05236961,\n",
       "        0.02327956, -0.20513   , -0.01644131, -0.16599111, -0.09175313,\n",
       "        0.02537766, -0.11670695, -0.10161155,  0.03491865, -0.03042378,\n",
       "       -0.00172386, -0.11845973,  0.05937203,  0.0684553 ,  0.02045151,\n",
       "       -0.01477408, -0.23397838,  0.06729538, -0.17827408, -0.06246407,\n",
       "       -0.02066167, -0.21377432, -0.14322162, -0.1304726 ,  0.21685831,\n",
       "       -0.0723836 ,  0.05977785, -0.27840835,  0.21579483,  0.01395339,\n",
       "        0.08072068, -0.03074088, -0.11988128, -0.04100622,  0.13068742,\n",
       "       -0.19608878,  0.03702288,  0.12679116,  0.0891107 ,  0.07859328,\n",
       "       -0.10509663, -0.0838393 , -0.05423431,  0.06263696, -0.01256976,\n",
       "       -0.08581496,  0.10784189, -0.04806519, -0.1426728 , -0.09259094,\n",
       "       -0.08902919,  0.25485575,  0.15719868,  0.06192108, -0.20453107,\n",
       "        0.1749599 ,  0.0450637 , -0.1988367 , -0.09396395,  0.04298599,\n",
       "       -0.05985619,  0.03898378, -0.05415593,  0.07145892,  0.08334707,\n",
       "       -0.04542015,  0.15145718,  0.13177231, -0.19069178,  0.08336979,\n",
       "       -0.19762053,  0.08279379,  0.19410968,  0.01405502, -0.05509523,\n",
       "       -0.02785503, -0.10786157,  0.09081412, -0.10133281,  0.03765168,\n",
       "       -0.17325215, -0.16362664, -0.24517006, -0.09801953, -0.04686382,\n",
       "        0.07817785,  0.04343634,  0.02682528, -0.0443027 , -0.11700472,\n",
       "        0.00634099, -0.09792476, -0.10688607, -0.17443806, -0.01982895,\n",
       "       -0.02222102, -0.15500316, -0.12084705, -0.0189681 ,  0.00154805,\n",
       "        0.13091902,  0.08543862,  0.09937383,  0.07286066, -0.2917654 ,\n",
       "        0.04067055, -0.09226099,  0.00142148,  0.05506572, -0.08251689,\n",
       "       -0.12832363, -0.2840931 ,  0.03464212, -0.00949547,  0.11345011,\n",
       "        0.13886528,  0.02902791,  0.10826465, -0.01464105, -0.15728663,\n",
       "       -0.18023022,  0.2941582 ,  0.16432483, -0.27059156, -0.14233956,\n",
       "        0.04577908,  0.1619098 , -0.09258243, -0.24372798, -0.00172884,\n",
       "        0.1256285 ,  0.15812567,  0.09812143, -0.08180813, -0.00953757,\n",
       "       -0.04759391, -0.0118372 , -0.02673863, -0.16445966,  0.08131829,\n",
       "        0.01107609,  0.21271935,  0.26175755, -0.11685957,  0.13739547,\n",
       "       -0.06156811,  0.13377494, -0.09833693,  0.15602715, -0.04231707,\n",
       "        0.06333794, -0.08682394,  0.07717039,  0.14704925,  0.11809465,\n",
       "        0.12908123,  0.14291851,  0.12061621,  0.11123229,  0.34592456,\n",
       "        0.21309395,  0.04152002, -0.11461995,  0.1457376 , -0.07110369],\n",
       "      dtype=float32)"
      ]
     },
     "execution_count": 21,
     "metadata": {},
     "output_type": "execute_result"
    }
   ],
   "source": [
    "model.wv['முதற்புலரியில்']"
   ]
  },
  {
   "cell_type": "code",
   "execution_count": 22,
   "metadata": {},
   "outputs": [
    {
     "data": {
      "text/plain": [
       "0.56230605"
      ]
     },
     "execution_count": 22,
     "metadata": {},
     "output_type": "execute_result"
    }
   ],
   "source": [
    "model.wv.similarity('மாலையில்','காலை')"
   ]
  },
  {
   "cell_type": "code",
   "execution_count": 23,
   "metadata": {},
   "outputs": [
    {
     "data": {
      "text/plain": [
       "[('மாலை', 0.7423643469810486),\n",
       " ('புண்பட்ட', 0.7004303336143494),\n",
       " ('புலரியில்', 0.6722503304481506),\n",
       " ('விடியற்காலையில்', 0.6453127861022949),\n",
       " ('மறுநாள்', 0.6431800127029419),\n",
       " ('முதற்கதிர்', 0.6379672884941101),\n",
       " ('காலையில்', 0.636972963809967),\n",
       " ('முற்புலரியில்', 0.623706042766571),\n",
       " ('“நாளை', 0.6153993606567383),\n",
       " ('துயின்றேன்', 0.609329104423523)]"
      ]
     },
     "execution_count": 23,
     "metadata": {},
     "output_type": "execute_result"
    }
   ],
   "source": [
    "sims = model.wv.most_similar('காலை', topn=10)\n",
    "sims"
   ]
  },
  {
   "cell_type": "code",
   "execution_count": 230,
   "metadata": {},
   "outputs": [],
   "source": [
    "model.save(\"word2vect.model\")"
   ]
  },
  {
   "cell_type": "code",
   "execution_count": 184,
   "metadata": {},
   "outputs": [],
   "source": [
    "word_vectors = model.wv\n",
    "word_vectors.save(\"word2vec.wordvectors\")"
   ]
  },
  {
   "cell_type": "code",
   "execution_count": 192,
   "metadata": {},
   "outputs": [],
   "source": [
    "from gensim.models import KeyedVectors\n",
    "#wv = KeyedVectors.load(\"word2vec.wordvectors\", mmap='r')"
   ]
  },
  {
   "cell_type": "code",
   "execution_count": 232,
   "metadata": {},
   "outputs": [],
   "source": [
    "model.wv.save_word2vec_format('word2vect.model')\n",
    "import gensim\n",
    "from gensim.scripts import word2vec2tensor\n",
    "gensim.scripts.word2vec2tensor.word2vec2tensor('word2vect.model','word2vec_tensorfile', binary=False)"
   ]
  },
  {
   "cell_type": "markdown",
   "metadata": {},
   "source": []
  }
 ],
 "metadata": {
  "kernelspec": {
   "display_name": "Python 3",
   "language": "python",
   "name": "python3"
  },
  "language_info": {
   "codemirror_mode": {
    "name": "ipython",
    "version": 3
   },
   "file_extension": ".py",
   "mimetype": "text/x-python",
   "name": "python",
   "nbconvert_exporter": "python",
   "pygments_lexer": "ipython3",
   "version": "3.7.6"
  }
 },
 "nbformat": 4,
 "nbformat_minor": 4
}
