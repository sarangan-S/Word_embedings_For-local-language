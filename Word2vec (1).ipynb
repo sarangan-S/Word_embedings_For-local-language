{
 "cells": [
  {
   "cell_type": "code",
   "execution_count": 1,
   "metadata": {},
   "outputs": [],
   "source": [
    "import os \n",
    "import pandas as pd\n",
    "import glob"
   ]
  },
  {
   "cell_type": "code",
   "execution_count": 2,
   "metadata": {},
   "outputs": [],
   "source": [
    "os.chdir('/Users/sivapalansarangan/Word2vec final/Data')"
   ]
  },
  {
   "cell_type": "code",
   "execution_count": 3,
   "metadata": {},
   "outputs": [
    {
     "data": {
      "text/plain": [
       "'/Users/sivapalansarangan/Word2vec final/Data'"
      ]
     },
     "execution_count": 3,
     "metadata": {},
     "output_type": "execute_result"
    }
   ],
   "source": [
    "%pwd"
   ]
  },
  {
   "cell_type": "code",
   "execution_count": 4,
   "metadata": {},
   "outputs": [],
   "source": [
    "file_extension='.csv'\n",
    "all_filenames = [i for i in glob.glob(f\"*{file_extension}\")]"
   ]
  },
  {
   "cell_type": "code",
   "execution_count": 5,
   "metadata": {},
   "outputs": [
    {
     "data": {
      "text/plain": [
       "'மாமலர் - 24.csv'"
      ]
     },
     "execution_count": 5,
     "metadata": {},
     "output_type": "execute_result"
    }
   ],
   "source": [
    "all_filenames[-1]"
   ]
  },
  {
   "cell_type": "code",
   "execution_count": 6,
   "metadata": {},
   "outputs": [
    {
     "data": {
      "text/plain": [
       "1941"
      ]
     },
     "execution_count": 6,
     "metadata": {},
     "output_type": "execute_result"
    }
   ],
   "source": [
    "len(all_filenames)"
   ]
  },
  {
   "cell_type": "code",
   "execution_count": 6,
   "metadata": {},
   "outputs": [],
   "source": [
    "df = pd.concat([pd.read_csv(f) for f in all_filenames])"
   ]
  },
  {
   "cell_type": "code",
   "execution_count": 7,
   "metadata": {},
   "outputs": [],
   "source": [
    "os.chdir('/Users/sivapalansarangan/Word2vec final')"
   ]
  },
  {
   "cell_type": "code",
   "execution_count": 8,
   "metadata": {},
   "outputs": [
    {
     "data": {
      "text/html": [
       "<div>\n",
       "<style scoped>\n",
       "    .dataframe tbody tr th:only-of-type {\n",
       "        vertical-align: middle;\n",
       "    }\n",
       "\n",
       "    .dataframe tbody tr th {\n",
       "        vertical-align: top;\n",
       "    }\n",
       "\n",
       "    .dataframe thead th {\n",
       "        text-align: right;\n",
       "    }\n",
       "</style>\n",
       "<table border=\"1\" class=\"dataframe\">\n",
       "  <thead>\n",
       "    <tr style=\"text-align: right;\">\n",
       "      <th></th>\n",
       "      <th>Heading</th>\n",
       "      <th>Chapter</th>\n",
       "      <th>Paragraph</th>\n",
       "    </tr>\n",
       "  </thead>\n",
       "  <tbody>\n",
       "    <tr>\n",
       "      <th>0</th>\n",
       "      <td>சொல்வளர்காடு - 1</td>\n",
       "      <td>முதற்காடு : கௌஷீதகம்</td>\n",
       "      <td>தொன்மையான மலைநிலமாகிய கௌஷீதகத்தில் அசிதர் என்ன...</td>\n",
       "    </tr>\n",
       "    <tr>\n",
       "      <th>1</th>\n",
       "      <td>NaN</td>\n",
       "      <td>NaN</td>\n",
       "      <td>பாஞ்சாலநாட்டைச் சேர்ந்தவனும் கௌதம கோத்திரத்தவன...</td>\n",
       "    </tr>\n",
       "    <tr>\n",
       "      <th>2</th>\n",
       "      <td>NaN</td>\n",
       "      <td>NaN</td>\n",
       "      <td>மாதத்தில் ஒருநாள் தன் மாணவர்களின் தொழில்தேர்ச்...</td>\n",
       "    </tr>\n",
       "    <tr>\n",
       "      <th>3</th>\n",
       "      <td>NaN</td>\n",
       "      <td>NaN</td>\n",
       "      <td>அன்று அனல்முகப்பில் அவியிடல் முடிந்தபின் மிச்ச...</td>\n",
       "    </tr>\n",
       "    <tr>\n",
       "      <th>4</th>\n",
       "      <td>NaN</td>\n",
       "      <td>NaN</td>\n",
       "      <td>விழிதிருப்பி அவனை நோக்கிய ஆசிரியர் “சொல், அது ...</td>\n",
       "    </tr>\n",
       "  </tbody>\n",
       "</table>\n",
       "</div>"
      ],
      "text/plain": [
       "            Heading               Chapter  \\\n",
       "0  சொல்வளர்காடு - 1  முதற்காடு : கௌஷீதகம்   \n",
       "1               NaN                   NaN   \n",
       "2               NaN                   NaN   \n",
       "3               NaN                   NaN   \n",
       "4               NaN                   NaN   \n",
       "\n",
       "                                           Paragraph  \n",
       "0  தொன்மையான மலைநிலமாகிய கௌஷீதகத்தில் அசிதர் என்ன...  \n",
       "1  பாஞ்சாலநாட்டைச் சேர்ந்தவனும் கௌதம கோத்திரத்தவன...  \n",
       "2  மாதத்தில் ஒருநாள் தன் மாணவர்களின் தொழில்தேர்ச்...  \n",
       "3  அன்று அனல்முகப்பில் அவியிடல் முடிந்தபின் மிச்ச...  \n",
       "4  விழிதிருப்பி அவனை நோக்கிய ஆசிரியர் “சொல், அது ...  "
      ]
     },
     "execution_count": 8,
     "metadata": {},
     "output_type": "execute_result"
    }
   ],
   "source": [
    "df.head()"
   ]
  },
  {
   "cell_type": "code",
   "execution_count": 9,
   "metadata": {},
   "outputs": [],
   "source": [
    "review_text=df[\"Paragraph\"].values"
   ]
  },
  {
   "cell_type": "code",
   "execution_count": 10,
   "metadata": {},
   "outputs": [],
   "source": [
    "import tensorflow as tf\n",
    "import re\n",
    "import string"
   ]
  },
  {
   "cell_type": "code",
   "execution_count": 11,
   "metadata": {},
   "outputs": [],
   "source": [
    "# Now, create a custom standardization function to lowercase the text and\n",
    "# remove punctuation.\n",
    "def custom_standardization(input_data):\n",
    "  #lowercase = tf.strings.lower(input_data)\n",
    "  return tf.strings.regex_replace(input_data,\n",
    "                                  '[%s]' % re.escape(string.punctuation+u'\\u201c'+u'\\u201d'+u'\\u2018'+u'\\u2019'), '')"
   ]
  },
  {
   "cell_type": "code",
   "execution_count": 12,
   "metadata": {},
   "outputs": [],
   "source": [
    "def clean_text(text ): \n",
    "    delete_dict = {sp_character: ' ' for sp_character in string.punctuation} \n",
    "    delete_dict[' '] = ' ' \n",
    "    table = str.maketrans(delete_dict)\n",
    "    text1 = text.translate(table)\n",
    "    #print('cleaned:'+text1)\n",
    "    textArr= text1.split()\n",
    "    text2 = ' '.join([w for w in textArr if ( not w.isdigit() and  ( not w.isdigit() and len(w)>2))]) \n",
    "    \n",
    "    return text2.split(' ')"
   ]
  },
  {
   "cell_type": "code",
   "execution_count": null,
   "metadata": {},
   "outputs": [],
   "source": []
  },
  {
   "cell_type": "code",
   "execution_count": 13,
   "metadata": {},
   "outputs": [],
   "source": [
    "newvec=[clean_text(a) for a in review_text]"
   ]
  },
  {
   "cell_type": "code",
   "execution_count": 103,
   "metadata": {},
   "outputs": [],
   "source": [
    "#import nltk\n",
    "#newvec=[nltk.word_tokenize(t) for t in review_text]"
   ]
  },
  {
   "cell_type": "code",
   "execution_count": 15,
   "metadata": {},
   "outputs": [
    {
     "name": "stderr",
     "output_type": "stream",
     "text": [
      "/Users/sivapalansarangan/opt/anaconda3/lib/python3.7/site-packages/gensim/similarities/__init__.py:15: UserWarning: The gensim.similarities.levenshtein submodule is disabled, because the optional Levenshtein package <https://pypi.org/project/python-Levenshtein/> is unavailable. Install Levenhstein (e.g. `pip install python-Levenshtein`) to suppress this warning.\n",
      "  warnings.warn(msg)\n"
     ]
    }
   ],
   "source": [
    "from gensim.models import Word2Vec\n",
    "from gensim.models.callbacks import CallbackAny2Vec\n",
    "# init callback class\n",
    "class callback(CallbackAny2Vec):\n",
    "    \"\"\"\n",
    "    Callback to print loss after each epoch\n",
    "    \"\"\"\n",
    "    def __init__(self):\n",
    "        self.epoch = 0\n",
    "\n",
    "    def on_epoch_end(self, model):\n",
    "        loss = model.get_latest_training_loss()\n",
    "        \n",
    "        if self.epoch == 0:\n",
    "            print('Loss after epoch {}: {}'.format(self.epoch, loss))\n",
    "        elif self.epoch % 100 == 0:\n",
    "            print('Loss after epoch {}: {}'.format(self.epoch, loss- self.loss_previous_step))\n",
    "        \n",
    "        \n",
    "        self.epoch += 1\n",
    "        self.loss_previous_step = loss"
   ]
  },
  {
   "cell_type": "code",
   "execution_count": 17,
   "metadata": {},
   "outputs": [],
   "source": [
    "w2v_model = Word2Vec(vector_size = 300,\n",
    "                     window = 10,\n",
    "                     min_count = 2,\n",
    "                     workers = 20,#\n",
    "                     sg = 1,\n",
    "                     negative = 5,\n",
    "                     sample = 1e-5)"
   ]
  },
  {
   "cell_type": "code",
   "execution_count": 18,
   "metadata": {},
   "outputs": [
    {
     "name": "stdout",
     "output_type": "stream",
     "text": [
      "Loss after epoch 0: 2536859.5\n"
     ]
    }
   ],
   "source": [
    "import time\n",
    "start = time.time()\n",
    "w2v_model.build_vocab(newvec)\n",
    "w2v_model.train(newvec, \n",
    "                total_examples=w2v_model.corpus_count, \n",
    "                epochs=10, \n",
    "                report_delay=1,\n",
    "                compute_loss = True, # set compute_loss = True\n",
    "                callbacks=[callback()]) # add the callback class\n",
    "end = time.time()"
   ]
  },
  {
   "cell_type": "code",
   "execution_count": 15,
   "metadata": {},
   "outputs": [
    {
     "name": "stderr",
     "output_type": "stream",
     "text": [
      "/Users/sivapalansarangan/opt/anaconda3/lib/python3.7/site-packages/gensim/similarities/__init__.py:15: UserWarning: The gensim.similarities.levenshtein submodule is disabled, because the optional Levenshtein package <https://pypi.org/project/python-Levenshtein/> is unavailable. Install Levenhstein (e.g. `pip install python-Levenshtein`) to suppress this warning.\n",
      "  warnings.warn(msg)\n"
     ]
    }
   ],
   "source": [
    "from gensim.models import Word2Vec"
   ]
  },
  {
   "cell_type": "code",
   "execution_count": 16,
   "metadata": {},
   "outputs": [],
   "source": [
    "model=Word2Vec(newvec, min_count=2, vector_size=300,sg=1)# sg is o or 1 ie skkipgram or CRow"
   ]
  },
  {
   "cell_type": "code",
   "execution_count": 17,
   "metadata": {},
   "outputs": [
    {
     "data": {
      "text/plain": [
       "array([-7.70000666e-02,  2.07129475e-02,  5.77804595e-02,  1.64391294e-01,\n",
       "        9.07406732e-02, -2.00368091e-01,  4.82349843e-02,  2.04611778e-01,\n",
       "        2.13105548e-02,  8.63581970e-02, -7.15428963e-02, -1.23663016e-01,\n",
       "        1.21857800e-01,  2.10257247e-02, -4.08407785e-02, -3.96608263e-02,\n",
       "        8.54550228e-02, -3.09147071e-02,  3.52958404e-02, -1.64251719e-02,\n",
       "        5.51141165e-02,  5.27034365e-02,  5.21389060e-02,  8.90235230e-02,\n",
       "        8.73655528e-02,  1.88452322e-02, -7.98982456e-02,  3.34160551e-02,\n",
       "       -1.19487494e-01, -4.68719043e-02, -4.30517606e-02, -1.62199680e-02,\n",
       "       -8.46163277e-03, -1.38674872e-02, -1.34320054e-02,  1.19105875e-01,\n",
       "        3.55469100e-02, -1.44865185e-01,  2.40556933e-02, -2.27223225e-02,\n",
       "       -1.66744545e-01,  4.77772690e-02, -6.15687631e-02, -2.86363438e-02,\n",
       "       -1.80864073e-02,  1.68553129e-01,  4.76730801e-02, -4.76793423e-02,\n",
       "        8.62214621e-03,  1.50339797e-01,  1.62687838e-01, -5.00383638e-02,\n",
       "       -2.47858639e-04,  1.01594172e-01, -1.56430990e-01,  1.44286126e-01,\n",
       "        3.66600044e-02,  1.43398181e-01,  9.28548127e-02,  5.67710996e-02,\n",
       "        2.28600670e-02, -9.79877189e-02, -4.22328189e-02,  1.31162018e-01,\n",
       "        5.68609349e-02,  5.77120818e-02,  4.56657745e-02,  1.32256687e-01,\n",
       "       -2.69308034e-02,  1.32301552e-02, -1.03200220e-01,  1.03633381e-01,\n",
       "        9.58570540e-02, -1.74840420e-01, -8.65722261e-03,  1.02227114e-01,\n",
       "       -3.22092883e-02, -1.04711302e-01, -1.02267321e-02,  1.61316827e-01,\n",
       "       -1.35123223e-01, -1.83299080e-01, -8.04448351e-02,  2.57320374e-01,\n",
       "        9.70104593e-04, -1.91590209e-02, -1.49449587e-01, -1.64923794e-03,\n",
       "        1.96556628e-01,  6.16767816e-03,  7.52351731e-02, -2.34018996e-01,\n",
       "        2.08197273e-02, -4.47326479e-03,  8.48899558e-02,  5.03422841e-02,\n",
       "        1.13118261e-01,  2.53222305e-02, -2.69373804e-01,  1.86580211e-01,\n",
       "       -6.57388866e-02,  6.80916160e-02, -4.05996048e-04,  5.12358174e-02,\n",
       "        2.52783328e-01, -1.20509289e-01, -3.17668580e-02,  3.65274362e-02,\n",
       "       -1.81681260e-01,  3.15111019e-02, -2.36078411e-01, -8.46267566e-02,\n",
       "       -1.36464119e-01,  1.08046010e-01,  7.71560743e-02,  6.26444891e-02,\n",
       "       -4.35309187e-02,  2.04018094e-02,  3.15379351e-02, -1.76056266e-01,\n",
       "       -4.08816896e-02,  1.19250357e-01,  1.25423029e-01, -1.48652911e-01,\n",
       "       -3.38836052e-02,  1.71635702e-01, -6.97119534e-02, -1.21478289e-01,\n",
       "       -8.98737237e-02,  1.23263575e-01,  1.03797065e-02,  1.03101760e-01,\n",
       "        4.83648926e-02, -2.47044474e-01,  1.07818805e-01,  1.11310631e-01,\n",
       "       -8.00498053e-02,  1.95614714e-02, -9.30844620e-02, -1.87505439e-01,\n",
       "       -8.96596387e-02, -1.10582992e-01, -1.17119901e-01,  9.61039290e-02,\n",
       "       -2.79263575e-02, -2.56405678e-02, -1.48334578e-01, -4.84233443e-03,\n",
       "        8.50005299e-02,  1.63911935e-03, -1.01589508e-01, -1.34989083e-01,\n",
       "        3.13238651e-02, -1.18221112e-01,  4.08948474e-02, -1.25645315e-02,\n",
       "       -1.85433835e-01, -8.28796104e-02, -9.75169018e-02,  1.51636451e-01,\n",
       "        1.76924095e-02,  6.81439862e-02, -2.62530744e-01,  1.65669262e-01,\n",
       "       -1.05646541e-02,  6.95030764e-02, -4.72438037e-02, -3.08507811e-02,\n",
       "       -5.30575737e-02,  1.75232470e-01, -2.09320530e-01,  6.53780848e-02,\n",
       "        1.77411288e-01, -2.53361464e-02,  5.59753478e-02, -5.43605015e-02,\n",
       "       -2.67105922e-02, -3.41290794e-02,  1.70490872e-02, -2.68513989e-02,\n",
       "       -1.01013131e-01, -2.30724532e-02, -1.81857109e-01, -1.17713585e-01,\n",
       "       -1.30914286e-01, -1.63463414e-01,  1.54035851e-01,  1.50483817e-01,\n",
       "        2.85659917e-03, -2.98164129e-01,  4.39622626e-02, -1.17223104e-03,\n",
       "       -2.53470302e-01, -7.11846054e-02,  8.68183225e-02, -9.27129686e-02,\n",
       "       -3.66650820e-02, -2.22404674e-02, -7.30499476e-02,  1.47340670e-01,\n",
       "       -7.51288012e-02,  5.90450168e-02,  1.51556045e-01, -2.93511599e-01,\n",
       "        1.02090977e-01, -1.16663016e-01, -2.13440675e-02,  9.05177593e-02,\n",
       "       -2.96051931e-02, -5.57682477e-02,  3.53684612e-02, -1.15606003e-01,\n",
       "        1.98842660e-02, -1.42267972e-01, -2.13353708e-02, -9.22646224e-02,\n",
       "       -1.48707762e-01, -3.28519225e-01, -1.17432605e-02, -1.33132398e-01,\n",
       "        6.32659942e-02,  1.50597855e-01, -3.72083001e-02, -4.06870246e-03,\n",
       "       -1.25614002e-01, -8.19773674e-02, -9.74427816e-03, -1.65101260e-01,\n",
       "       -1.45744339e-01,  1.92934694e-03,  1.51876397e-02, -2.42919438e-02,\n",
       "       -1.55556917e-01,  2.80153584e-02,  1.39739802e-02,  2.16736317e-01,\n",
       "       -3.85713540e-02,  5.71758077e-02,  6.23704344e-02, -3.76797140e-01,\n",
       "       -3.81943919e-02, -8.18841234e-02, -2.64276918e-02,  5.89140579e-02,\n",
       "       -4.59006988e-02, -1.51226386e-01, -2.09966809e-01,  7.16659799e-02,\n",
       "       -3.10891550e-02, -9.51508898e-03,  1.22285672e-01,  3.54493670e-02,\n",
       "        1.02255180e-01,  4.73356657e-02, -1.20077610e-01, -1.21979430e-01,\n",
       "        3.01478744e-01,  1.20273501e-01, -2.38540426e-01, -3.89436819e-02,\n",
       "        3.84538285e-02,  1.21016040e-01, -8.37976784e-02, -2.26921722e-01,\n",
       "       -1.91143770e-02,  2.90103015e-02,  1.24181338e-01, -2.10777894e-02,\n",
       "       -1.02676101e-01, -3.08365915e-02, -1.27330884e-01, -4.08005988e-04,\n",
       "       -5.02359606e-02, -2.34754920e-01,  1.55304357e-01, -1.70768183e-02,\n",
       "        1.90461859e-01,  2.44699180e-01, -1.45653829e-01,  1.51107252e-01,\n",
       "       -1.21843599e-01,  1.28726289e-01, -1.89629972e-01,  1.91555098e-01,\n",
       "       -3.91417891e-02, -2.52042525e-02, -3.76573466e-02,  1.27410054e-01,\n",
       "        1.77694380e-01,  1.25309974e-01,  9.75807533e-02,  1.61382958e-01,\n",
       "        1.26573488e-01,  1.62456229e-01,  3.03380132e-01,  1.30861327e-01,\n",
       "       -3.42932008e-02, -1.64489701e-01,  1.49340391e-01, -9.98734161e-02],\n",
       "      dtype=float32)"
      ]
     },
     "execution_count": 17,
     "metadata": {},
     "output_type": "execute_result"
    }
   ],
   "source": [
    "model.wv['முதற்புலரியில்']"
   ]
  },
  {
   "cell_type": "code",
   "execution_count": 18,
   "metadata": {},
   "outputs": [
    {
     "data": {
      "text/plain": [
       "0.58557236"
      ]
     },
     "execution_count": 18,
     "metadata": {},
     "output_type": "execute_result"
    }
   ],
   "source": [
    "model.wv.similarity('மாலையில்','காலை')"
   ]
  },
  {
   "cell_type": "code",
   "execution_count": 19,
   "metadata": {},
   "outputs": [
    {
     "data": {
      "text/plain": [
       "[('மாலை', 0.7511948943138123),\n",
       " ('புண்பட்ட', 0.6767891645431519),\n",
       " ('முதற்கதிர்', 0.6681026220321655),\n",
       " ('புலரியில்', 0.659150242805481),\n",
       " ('முற்புலரியில்', 0.651742160320282),\n",
       " ('அந்தியில்', 0.6479606628417969),\n",
       " ('மறுநாள்', 0.6350641250610352),\n",
       " ('பகல்', 0.6340986490249634),\n",
       " ('விடியற்காலையில்', 0.6293861269950867),\n",
       " ('“நாளை', 0.619310736656189)]"
      ]
     },
     "execution_count": 19,
     "metadata": {},
     "output_type": "execute_result"
    }
   ],
   "source": [
    "sims = model.wv.most_similar('காலை', topn=10)\n",
    "sims"
   ]
  },
  {
   "cell_type": "code",
   "execution_count": 230,
   "metadata": {},
   "outputs": [],
   "source": [
    "model.save(\"word2vect.model\")"
   ]
  },
  {
   "cell_type": "code",
   "execution_count": 184,
   "metadata": {},
   "outputs": [],
   "source": [
    "word_vectors = model.wv\n",
    "word_vectors.save(\"word2vec.wordvectors\")"
   ]
  },
  {
   "cell_type": "code",
   "execution_count": 192,
   "metadata": {},
   "outputs": [],
   "source": [
    "from gensim.models import KeyedVectors\n",
    "#wv = KeyedVectors.load(\"word2vec.wordvectors\", mmap='r')"
   ]
  },
  {
   "cell_type": "code",
   "execution_count": 232,
   "metadata": {},
   "outputs": [],
   "source": [
    "model.wv.save_word2vec_format('word2vect.model')\n",
    "import gensim\n",
    "from gensim.scripts import word2vec2tensor\n",
    "gensim.scripts.word2vec2tensor.word2vec2tensor('word2vect.model','word2vec_tensorfile', binary=False)"
   ]
  },
  {
   "cell_type": "markdown",
   "metadata": {},
   "source": []
  }
 ],
 "metadata": {
  "kernelspec": {
   "display_name": "Python 3",
   "language": "python",
   "name": "python3"
  },
  "language_info": {
   "codemirror_mode": {
    "name": "ipython",
    "version": 3
   },
   "file_extension": ".py",
   "mimetype": "text/x-python",
   "name": "python",
   "nbconvert_exporter": "python",
   "pygments_lexer": "ipython3",
   "version": "3.7.6"
  }
 },
 "nbformat": 4,
 "nbformat_minor": 4
}
